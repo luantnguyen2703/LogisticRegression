{
 "cells": [
  {
   "cell_type": "markdown",
   "metadata": {},
   "source": [
    "# Import Library"
   ]
  },
  {
   "cell_type": "code",
   "execution_count": 1,
   "metadata": {},
   "outputs": [],
   "source": [
    "import json\n",
    "import pandas as pd\n",
    "import numpy as np\n",
    "import seaborn as sns\n",
    "import matplotlib.pyplot as plt\n",
    "from mpl_toolkits.mplot3d import Axes3D\n",
    "\n",
    "import scipy.optimize as opt"
   ]
  },
  {
   "cell_type": "markdown",
   "metadata": {},
   "source": [
    "# Read & Analyze Data"
   ]
  },
  {
   "cell_type": "code",
   "execution_count": 2,
   "metadata": {},
   "outputs": [
    {
     "data": {
      "text/html": [
       "<div>\n",
       "<style scoped>\n",
       "    .dataframe tbody tr th:only-of-type {\n",
       "        vertical-align: middle;\n",
       "    }\n",
       "\n",
       "    .dataframe tbody tr th {\n",
       "        vertical-align: top;\n",
       "    }\n",
       "\n",
       "    .dataframe thead th {\n",
       "        text-align: right;\n",
       "    }\n",
       "</style>\n",
       "<table border=\"1\" class=\"dataframe\">\n",
       "  <thead>\n",
       "    <tr style=\"text-align: right;\">\n",
       "      <th></th>\n",
       "      <th>x1</th>\n",
       "      <th>x2</th>\n",
       "      <th>result</th>\n",
       "    </tr>\n",
       "  </thead>\n",
       "  <tbody>\n",
       "    <tr>\n",
       "      <th>0</th>\n",
       "      <td>0.051267</td>\n",
       "      <td>0.69956</td>\n",
       "      <td>1</td>\n",
       "    </tr>\n",
       "    <tr>\n",
       "      <th>1</th>\n",
       "      <td>-0.092742</td>\n",
       "      <td>0.68494</td>\n",
       "      <td>1</td>\n",
       "    </tr>\n",
       "    <tr>\n",
       "      <th>2</th>\n",
       "      <td>-0.213710</td>\n",
       "      <td>0.69225</td>\n",
       "      <td>1</td>\n",
       "    </tr>\n",
       "    <tr>\n",
       "      <th>3</th>\n",
       "      <td>-0.375000</td>\n",
       "      <td>0.50219</td>\n",
       "      <td>1</td>\n",
       "    </tr>\n",
       "    <tr>\n",
       "      <th>4</th>\n",
       "      <td>-0.513250</td>\n",
       "      <td>0.46564</td>\n",
       "      <td>1</td>\n",
       "    </tr>\n",
       "  </tbody>\n",
       "</table>\n",
       "</div>"
      ],
      "text/plain": [
       "         x1       x2  result\n",
       "0  0.051267  0.69956       1\n",
       "1 -0.092742  0.68494       1\n",
       "2 -0.213710  0.69225       1\n",
       "3 -0.375000  0.50219       1\n",
       "4 -0.513250  0.46564       1"
      ]
     },
     "execution_count": 2,
     "metadata": {},
     "output_type": "execute_result"
    }
   ],
   "source": [
    "file_path = 'training_data.txt'\n",
    "df = pd.read_csv(file_path,header=None, names=[\"x1\",\"x2\", \"result\"])\n",
    "df.head(5)\n"
   ]
  },
  {
   "cell_type": "code",
   "execution_count": 3,
   "metadata": {},
   "outputs": [
    {
     "data": {
      "text/html": [
       "<div>\n",
       "<style scoped>\n",
       "    .dataframe tbody tr th:only-of-type {\n",
       "        vertical-align: middle;\n",
       "    }\n",
       "\n",
       "    .dataframe tbody tr th {\n",
       "        vertical-align: top;\n",
       "    }\n",
       "\n",
       "    .dataframe thead th {\n",
       "        text-align: right;\n",
       "    }\n",
       "</style>\n",
       "<table border=\"1\" class=\"dataframe\">\n",
       "  <thead>\n",
       "    <tr style=\"text-align: right;\">\n",
       "      <th></th>\n",
       "      <th>x1</th>\n",
       "      <th>x2</th>\n",
       "      <th>result</th>\n",
       "    </tr>\n",
       "  </thead>\n",
       "  <tbody>\n",
       "    <tr>\n",
       "      <th>count</th>\n",
       "      <td>118.000000</td>\n",
       "      <td>118.000000</td>\n",
       "      <td>118.000000</td>\n",
       "    </tr>\n",
       "    <tr>\n",
       "      <th>mean</th>\n",
       "      <td>0.054779</td>\n",
       "      <td>0.183102</td>\n",
       "      <td>0.491525</td>\n",
       "    </tr>\n",
       "    <tr>\n",
       "      <th>std</th>\n",
       "      <td>0.496654</td>\n",
       "      <td>0.519743</td>\n",
       "      <td>0.502060</td>\n",
       "    </tr>\n",
       "    <tr>\n",
       "      <th>min</th>\n",
       "      <td>-0.830070</td>\n",
       "      <td>-0.769740</td>\n",
       "      <td>0.000000</td>\n",
       "    </tr>\n",
       "    <tr>\n",
       "      <th>25%</th>\n",
       "      <td>-0.372120</td>\n",
       "      <td>-0.254385</td>\n",
       "      <td>0.000000</td>\n",
       "    </tr>\n",
       "    <tr>\n",
       "      <th>50%</th>\n",
       "      <td>-0.006336</td>\n",
       "      <td>0.213455</td>\n",
       "      <td>0.000000</td>\n",
       "    </tr>\n",
       "    <tr>\n",
       "      <th>75%</th>\n",
       "      <td>0.478970</td>\n",
       "      <td>0.646563</td>\n",
       "      <td>1.000000</td>\n",
       "    </tr>\n",
       "    <tr>\n",
       "      <th>max</th>\n",
       "      <td>1.070900</td>\n",
       "      <td>1.108900</td>\n",
       "      <td>1.000000</td>\n",
       "    </tr>\n",
       "  </tbody>\n",
       "</table>\n",
       "</div>"
      ],
      "text/plain": [
       "               x1          x2      result\n",
       "count  118.000000  118.000000  118.000000\n",
       "mean     0.054779    0.183102    0.491525\n",
       "std      0.496654    0.519743    0.502060\n",
       "min     -0.830070   -0.769740    0.000000\n",
       "25%     -0.372120   -0.254385    0.000000\n",
       "50%     -0.006336    0.213455    0.000000\n",
       "75%      0.478970    0.646563    1.000000\n",
       "max      1.070900    1.108900    1.000000"
      ]
     },
     "execution_count": 3,
     "metadata": {},
     "output_type": "execute_result"
    }
   ],
   "source": [
    "df.describe()"
   ]
  },
  {
   "cell_type": "code",
   "execution_count": 4,
   "metadata": {},
   "outputs": [],
   "source": [
    "\"Split data\"\n",
    "X_ = df.iloc[:, :-1] #Feature\n",
    "y_ = df.iloc[:,   2] #Lable\n",
    "\n",
    "X = X_ #Feature\n",
    "y = y_ #Lable\n",
    "m = len(y)"
   ]
  },
  {
   "cell_type": "code",
   "execution_count": 5,
   "metadata": {},
   "outputs": [
    {
     "data": {
      "image/png": "[encoded data removed]",
      "text/plain": [
       "<Figure size 432x288 with 1 Axes>"
      ]
     },
     "metadata": {
      "needs_background": "light"
     },
     "output_type": "display_data"
    }
   ],
   "source": [
    "mask = y == 1\n",
    "\n",
    "passed = plt.scatter(X[mask][\"x1\"].values, X[mask][\"x2\"].values) # Sự phân tán của x1 so vs x2 khi đạt chuẩn\n",
    "failed = plt.scatter(X[~mask][\"x1\"].values, X[~mask][\"x2\"].values) # Sự phân tán của x1 so vs x2 khi không đạt chuẩn\n",
    "\n",
    "\n",
    "plt.xlabel('Microchip Test1')\n",
    "plt.ylabel('Microchip Test2')\n",
    "\n",
    "plt.legend((passed, failed), ('Passed', 'Failed'))\n",
    "plt.show()\n"
   ]
  },
  {
   "cell_type": "markdown",
   "metadata": {},
   "source": [
    "* Comment\n",
    "\n",
    "    - Tại đây ta để ý rằng nếu như boundary là 1 đường thẳng thì không thể nào dự đoán chính xác được\n",
    "\n",
    "    - Như trên hình thì ta cần 1 vòng tựa như đường tròn để có thể phân tách thành 2 miền 1/0\n",
    "\n",
    "    "
   ]
  },
  {
   "cell_type": "markdown",
   "metadata": {},
   "source": [
    "# Help Functions"
   ]
  },
  {
   "cell_type": "markdown",
   "metadata": {},
   "source": [
    "#### Map features"
   ]
  },
  {
   "cell_type": "code",
   "execution_count": 6,
   "metadata": {},
   "outputs": [],
   "source": [
    "\"Raw features mapped to new feature domain consists of 28 dimensions\"\n",
    "def map_feature(x1, x2):\n",
    "#   Returns a new feature array with more features, comprising of \n",
    "#   x1, x2, x1.^2, x2.^2, x1*x2, x1*x2.^2, etc.\n",
    "\n",
    "    degree = 6\n",
    "    out = np.ones([len(x1), int((degree + 1) * (degree + 2) / 2)])\n",
    "    idx = 1\n",
    "\n",
    "    for i in range(1, degree + 1):\n",
    "        for j in range(0, i + 1):\n",
    "            a1 = x1 ** (i - j)\n",
    "            a2 = x2 ** j\n",
    "            out[:, idx] = a1 * a2\n",
    "            idx += 1\n",
    "\n",
    "    return out\n",
    "\n",
    "X = map_feature(X.iloc[:,0],X.iloc[:,1])"
   ]
  },
  {
   "cell_type": "code",
   "execution_count": 7,
   "metadata": {},
   "outputs": [],
   "source": [
    "\"Sigmoid Function\"\n",
    "\n",
    "def sigmoid(x):\n",
    "  return 1/(1+np.exp(-x))\n"
   ]
  },
  {
   "cell_type": "code",
   "execution_count": 8,
   "metadata": {},
   "outputs": [],
   "source": [
    "class LogisticRegression:\n",
    "    def __init__(self, alpha=0.001, iters=1000, lamda = 1, verbose=False):\n",
    "        self.alpha = alpha\n",
    "        self.iters = iters\n",
    "        self.lamda = lamda\n",
    "        self.verbose = verbose\n",
    "        self.theta = None\n",
    "        \n",
    "    def CostFunction(self, X, y,theta, lamda):\n",
    "        m = len(y)\n",
    "        J = (-1/m) * (y.T @ np.log(sigmoid(X @ theta)) + (1 - y.T) @ np.log(1 - sigmoid(X @ theta)))\n",
    "        reg = (lamda/(2*m)) * (theta[1:].T @ theta[1:])\n",
    "        J = J + reg\n",
    "        return J\n",
    "    def gradient(self, X, y, theta, lamda):\n",
    "        h_theta = X@theta\n",
    "        loss = h_theta - y\n",
    "        \n",
    "        dJ = (1/m) * X.T @ (sigmoid(h_theta) - y)\n",
    "        dJ[1:] =  dJ[1:] + (lamda / m) * theta[1:]\n",
    "        \n",
    "        J = self.CostFunction(X,y,theta,lamda)\n",
    "\n",
    "        return (J, dJ)\n",
    "    def gradient_descent(self, X, y,lamda):\n",
    "        X = np.c_[np.ones(len(X),dtype='int64'), X]\n",
    "        theta = np.zeros(X.shape[1])\n",
    "        print(f'The total of training sample: {len(y)}')\n",
    "\n",
    "        for i in range(self.iters):\n",
    "            #todo\n",
    "            J, dJ = self.gradient(X,y,theta,lamda)\n",
    "            #todo\n",
    "            theta = theta - self.alpha*dJ\n",
    "            if self.verbose:\n",
    "                print(f'Iter {i + 1}, loss = {self.calculate_absolute_error(X, y, theta)}')\n",
    "        return theta\n",
    "    \n",
    "    def fit(self, X, y):\n",
    "        self.theta = self.gradient_descent(X, y,self.lamda)\n",
    "    \n",
    "    def predict(self, X):\n",
    "        results = []\n",
    "        for Xi in X:\n",
    "            exponent = Xi@self.theta[1:] + self.theta[0]\n",
    "            h_theta = sigmoid(exponent)\n",
    "            if(h_theta >= 0.5):\n",
    "                results.append(1)\n",
    "            else: \n",
    "                results.append(0)\n",
    "            \n",
    "        return results"
   ]
  },
  {
   "cell_type": "markdown",
   "metadata": {},
   "source": [
    "# Main Fuction"
   ]
  },
  {
   "cell_type": "markdown",
   "metadata": {},
   "source": [
    "## Train Model"
   ]
  },
  {
   "cell_type": "code",
   "execution_count": 9,
   "metadata": {},
   "outputs": [
    {
     "name": "stdout",
     "output_type": "stream",
     "text": [
      "The total of training sample: 118\n"
     ]
    }
   ],
   "source": [
    "\"Read the training configuration from file config.json.\"\n",
    "with open('config.json',) as f:\n",
    "    configs = json.load(f)\n",
    "\n",
    "\"Train model\"\n",
    "model = LogisticRegression(alpha= configs['Alpha'], iters=configs['NumIter'], lamda=configs['Lambda'], verbose=False)\n",
    "\n",
    "\"Find theta\"\n",
    "model.fit(X, y)\n"
   ]
  },
  {
   "cell_type": "markdown",
   "metadata": {},
   "source": [
    "## Visualize Model"
   ]
  },
  {
   "cell_type": "code",
   "execution_count": 10,
   "metadata": {},
   "outputs": [],
   "source": [
    "\n",
    "def mapFeatureForPlotting(X1, X2):\n",
    "    degree = 6\n",
    "    out = np.ones(1)\n",
    "    for i in range(1, degree+1):\n",
    "        for j in range(i+1):\n",
    "            out = np.hstack((out, np.multiply(np.power(X1, i-j), np.power(X2, j))))\n",
    "            \n",
    "    return out\n"
   ]
  },
  {
   "cell_type": "code",
   "execution_count": 11,
   "metadata": {},
   "outputs": [
    {
     "data": {
      "image/png": "[encoded data removed]",
      "text/plain": [
       "<Figure size 432x288 with 1 Axes>"
      ]
     },
     "metadata": {
      "needs_background": "light"
     },
     "output_type": "display_data"
    }
   ],
   "source": [
    "\n",
    "\"Chọn ra 2 domain u,v tương ứng vs miền giá trị của x1,x2\"\n",
    "u = np.linspace(-1, 1.5, 50) \n",
    "v = np.linspace(-1, 1.5, 50)\n",
    "\n",
    "\n",
    "\"Tính giá trị h_theta cho từng bộ trong u,v\"\n",
    "z = np.zeros((len(u), len(v))) \n",
    "for i in range(len(u)):\n",
    "    for j in range(len(v)):\n",
    "        z[i,j] = np.dot(mapFeatureForPlotting(u[i], v[j]), model.theta[1:]) + model.theta[0] \n",
    "\n",
    "\"Vẽ đồ thị\"\n",
    "mask = y == 1\n",
    "X = df.iloc[:,:-1]\n",
    "passed = plt.scatter(X_[mask][\"x1\"], X_[mask][\"x2\"])\n",
    "failed = plt.scatter(X_[~mask][\"x1\"], X_[~mask][\"x2\"])\n",
    "\n",
    "plt.contour(u,v,z,0)\n",
    "\n",
    "plt.xlabel('Microchip Test1')   \n",
    "plt.ylabel('Microchip Test2')\n",
    "plt.legend((passed, failed), ('Passed', 'Failed'))\n",
    "plt.show()"
   ]
  },
  {
   "cell_type": "markdown",
   "metadata": {},
   "source": [
    "- Comment:\n",
    "\n",
    "    Tại đây ta thấy vùng dữ liệu đã được khoanh vùng phân chia khá chuẩn xác, tuy nhiên vẫn còn một số ngoại lệ, nhưng không đáng kể so với tổng thể --> mô hình chấp nhận được"
   ]
  },
  {
   "cell_type": "markdown",
   "metadata": {},
   "source": [
    "## Predict Sample\n"
   ]
  },
  {
   "cell_type": "code",
   "execution_count": 12,
   "metadata": {},
   "outputs": [
    {
     "name": "stdout",
     "output_type": "stream",
     "text": [
      "1\n"
     ]
    }
   ],
   "source": [
    "sample = [[0.016705,-0.4042]]\n",
    "\n",
    "\n",
    "n = len(sample)\n",
    "sample =  np.array(sample).T\n",
    "sample_map_feature = map_feature(sample[0],sample[1])\n",
    "y_predict = model.predict(sample_map_feature)\n",
    "for i in range(n):\n",
    "    print(y_predict[i], sep=', ')\n"
   ]
  },
  {
   "cell_type": "markdown",
   "metadata": {},
   "source": [
    "## Calculate accuracy of training data set"
   ]
  },
  {
   "cell_type": "code",
   "execution_count": 13,
   "metadata": {},
   "outputs": [
    {
     "name": "stdout",
     "output_type": "stream",
     "text": [
      "Accuracy: 83.05084745762711\n"
     ]
    }
   ],
   "source": [
    "X = map_feature(X_.iloc[:,0],X_.iloc[:,1])\n",
    "y = np.c_[y_]\n",
    "\n",
    "\"Now we calculate accuracy of traning set data with model had been learned above\"\n",
    "pred = [sigmoid(np.dot(X, model.theta[1:]) + model.theta[0]) >= 0.5]\n",
    "accuracy = np.mean(pred == y.flatten()) * 100\n",
    "\n",
    "print(\"Accuracy:\", accuracy)"
   ]
  },
  {
   "cell_type": "markdown",
   "metadata": {},
   "source": [
    "## Save Results\n"
   ]
  },
  {
   "cell_type": "code",
   "execution_count": 14,
   "metadata": {},
   "outputs": [],
   "source": [
    "\"Save model to file model.json\"\n",
    "with open('model.json', 'w') as f:\n",
    "    #todo\n",
    "    json.dump({'theta: ': list(model.theta)}, f)\n",
    "\n",
    "\"Save  accuracy to file accuracy.json\"\n",
    "with open('accuracy.json', 'w') as f:\n",
    "    #todo\n",
    "    json.dump({'accuracy: ': accuracy}, f)\n"
   ]
  }
 ],
 "metadata": {
  "interpreter": {
   "hash": "bd9800c8d96b6cb32adf72f39ca8a0dc08092f5f1a44d6630cd5b000d50448f9"
  },
  "kernelspec": {
   "display_name": "Python 3.8.8 64-bit ('base': conda)",
   "language": "python",
   "name": "python3"
  },
  "language_info": {
   "codemirror_mode": {
    "name": "ipython",
    "version": 3
   },
   "file_extension": ".py",
   "mimetype": "text/x-python",
   "name": "python",
   "nbconvert_exporter": "python",
   "pygments_lexer": "ipython3",
   "version": "3.10.0"
  },
  "orig_nbformat": 4
 },
 "nbformat": 4,
 "nbformat_minor": 2
}
